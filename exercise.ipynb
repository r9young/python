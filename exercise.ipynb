{
 "cells": [
  {
   "cell_type": "code",
   "execution_count": 3,
   "metadata": {},
   "outputs": [],
   "source": [
    "nums = [2, 7, 11, 15]\n",
    "target = 9"
   ]
  },
  {
   "cell_type": "code",
   "execution_count": 6,
   "metadata": {},
   "outputs": [],
   "source": [
    "class Solution:\n",
    "    def twosum(self, nums, target):\n",
    "        for i in range(len(nums)-1):\n",
    "            for j in range(i, len(nums)):\n",
    "                if nums[i] + nums[j] == target:\n",
    "                    return (i,j)\n",
    "\n",
    "    "
   ]
  },
  {
   "cell_type": "code",
   "execution_count": 7,
   "metadata": {},
   "outputs": [
    {
     "name": "stdout",
     "output_type": "stream",
     "text": [
      "(0, 1)\n"
     ]
    }
   ],
   "source": [
    "sol = Solution()\n",
    "result = sol.twosum(nums, target)\n",
    "print(result)"
   ]
  },
  {
   "cell_type": "code",
   "execution_count": 8,
   "metadata": {},
   "outputs": [],
   "source": [
    "class Solution_2:\n",
    "    def twosum(self, nums, target):\n",
    "        for i in nums:\n",
    "            j = target - i # you cannot write targe - i = j\n",
    "            first_index = nums.index(i)\n",
    "            next_index = first_index + 1\n",
    "            temp_list = nums[next_index:]\n",
    "            if j in temp_list:\n",
    "                second_index = next_index + temp_list.index(j)\n",
    "            return first_index, second_index\n",
    "            \n",
    "\n"
   ]
  },
  {
   "cell_type": "code",
   "execution_count": 10,
   "metadata": {},
   "outputs": [
    {
     "name": "stdout",
     "output_type": "stream",
     "text": [
      "(0, 1)\n"
     ]
    }
   ],
   "source": [
    "sol = Solution_2()\n",
    "result = sol.twosum(nums, target)\n",
    "print(result)"
   ]
  },
  {
   "cell_type": "code",
   "execution_count": 36,
   "metadata": {},
   "outputs": [],
   "source": [
    "nums_1 = [2, 7, 11, 15]\n",
    "target_1 = 9"
   ]
  },
  {
   "cell_type": "code",
   "execution_count": 37,
   "metadata": {},
   "outputs": [],
   "source": [
    "class Solution_3:\n",
    "    def twosum(self, nums, target):\n",
    "        for i in nums:\n",
    "            j = target - i\n",
    "            first_index = nums.index(i)\n",
    "            next_index = first_index + 1\n",
    "            temp_nums = nums[next_index:]\n",
    "            if j in temp_nums:\n",
    "                second_index = next_index + temp_nums.index(j)\n",
    "            return first_index,second_index"
   ]
  },
  {
   "cell_type": "code",
   "execution_count": 38,
   "metadata": {},
   "outputs": [
    {
     "name": "stdout",
     "output_type": "stream",
     "text": [
      "(0, 1)\n"
     ]
    }
   ],
   "source": [
    "sol = Solution_3()\n",
    "result = sol.twosum(nums_1, target_1)\n",
    "print(result)"
   ]
  },
  {
   "cell_type": "code",
   "execution_count": null,
   "metadata": {},
   "outputs": [],
   "source": []
  },
  {
   "cell_type": "code",
   "execution_count": null,
   "metadata": {},
   "outputs": [],
   "source": []
  }
 ],
 "metadata": {
  "kernelspec": {
   "display_name": "Python 3",
   "language": "python",
   "name": "python3"
  },
  "language_info": {
   "codemirror_mode": {
    "name": "ipython",
    "version": 3
   },
   "file_extension": ".py",
   "mimetype": "text/x-python",
   "name": "python",
   "nbconvert_exporter": "python",
   "pygments_lexer": "ipython3",
   "version": "3.10.10"
  },
  "orig_nbformat": 4
 },
 "nbformat": 4,
 "nbformat_minor": 2
}
