{
 "cells": [
  {
   "attachments": {},
   "cell_type": "markdown",
   "metadata": {},
   "source": [
    "point causing confuse is how to add the value and index into a dictionary.\n"
   ]
  },
  {
   "cell_type": "code",
   "execution_count": 24,
   "metadata": {},
   "outputs": [],
   "source": [
    "nums = [2, 7, 11, 15]\n",
    "target = 9"
   ]
  },
  {
   "cell_type": "code",
   "execution_count": 25,
   "metadata": {},
   "outputs": [],
   "source": [
    "class Solution_4: # hash function\n",
    "    def twoSum(self, nums, target):\n",
    "        num_dict = {} # We create an empty dictionary called num_dict.\n",
    "        for index, num in enumerate(nums):# We iterate through nums, looking at each number (num) and its index (index) in turn.\n",
    "            complement = target - num # a. We check to see if the complement of num (i.e. target - num) is in num_dict.\n",
    "            if complement in num_dict: # a. If it is, then we've found a pair that adds up to the target, \n",
    "                return [num_dict[complement], index] # so we return the indices of the two numbers as a list: [num_dict[complement], index].\n",
    "            else:\n",
    "                num_dict[num] = index# If it isn't, we store the current number's index in num_dict for future reference, with the number as the key: num_dict[num] = index\n",
    "    \n",
    "\n",
    "    \n"
   ]
  },
  {
   "attachments": {},
   "cell_type": "markdown",
   "metadata": {},
   "source": [
    "Solution_4: hash function\n",
    "1. use a hash function to store the value and index into a dictionary.\n",
    "2. if the target - value is in the dictionary, return the index of the value and the index of the target - value.\n",
    "3. if the target - value is not in the dictionary, store the value and index into the dictionary.\n",
    "\n"
   ]
  },
  {
   "attachments": {},
   "cell_type": "markdown",
   "metadata": {},
   "source": [
    "Check if the complement is already in num_dict.\n",
    "a. If it is, then we've found a pair that adds up to the target, so we return the indices of the two numbers as a list: [num_dict[complement], index].\n",
    "b. If it isn't, we store the current number's index in num_dict for future reference, with the number as the key: num_dict[num] = index"
   ]
  },
  {
   "attachments": {},
   "cell_type": "markdown",
   "metadata": {},
   "source": [
    "The line num_dict[num] = index in the twoSum method of the Solution_4 class adds a new key-value pair to the num_dict dictionary, where the key is the number num from the input list nums, and the value is the index index of that number in the input list.\n",
    "\n",
    "By \"input list\", I was referring to the nums list which is passed as an argument to the twoSum method of the Solution_4 class."
   ]
  },
  {
   "cell_type": "code",
   "execution_count": 26,
   "metadata": {},
   "outputs": [
    {
     "name": "stdout",
     "output_type": "stream",
     "text": [
      "[0, 1]\n"
     ]
    }
   ],
   "source": [
    "sol = Solution_4()\n",
    "result = sol.twoSum(nums, target)\n",
    "print(result)"
   ]
  },
  {
   "cell_type": "code",
   "execution_count": null,
   "metadata": {},
   "outputs": [],
   "source": []
  },
  {
   "cell_type": "code",
   "execution_count": 23,
   "metadata": {},
   "outputs": [
    {
     "name": "stdout",
     "output_type": "stream",
     "text": [
      "{'key': 'value'}\n"
     ]
    }
   ],
   "source": [
    "# Create an empty dictionary\n",
    "my_dictionary = {}\n",
    "\n",
    "# Add an element to the dictionary with a key and its corresponding value\n",
    "my_dictionary['key'] = 'value'\n",
    "\n",
    "# Print the updated dictionary\n",
    "print(my_dictionary)\n"
   ]
  },
  {
   "cell_type": "code",
   "execution_count": null,
   "metadata": {},
   "outputs": [
    {
     "name": "stdout",
     "output_type": "stream",
     "text": [
      "0 2\n",
      "1 7\n",
      "2 11\n",
      "3 15\n"
     ]
    }
   ],
   "source": [
    "nums = [2, 7, 11, 15]\n",
    "for index, num in enumerate(nums):\n",
    "    print(index, num)"
   ]
  },
  {
   "cell_type": "code",
   "execution_count": null,
   "metadata": {},
   "outputs": [
    {
     "name": "stdout",
     "output_type": "stream",
     "text": [
      "{2: 3}\n"
     ]
    }
   ],
   "source": [
    "num_dict = {}\n",
    "num_dict[2] = index\n",
    "print(num_dict)"
   ]
  },
  {
   "cell_type": "code",
   "execution_count": null,
   "metadata": {},
   "outputs": [],
   "source": []
  },
  {
   "cell_type": "code",
   "execution_count": null,
   "metadata": {},
   "outputs": [
    {
     "name": "stdout",
     "output_type": "stream",
     "text": [
      "{0: 2, 1: 7, 2: 11, 3: 15}\n"
     ]
    }
   ],
   "source": [
    "nums = [2, 7, 11, 15]\n",
    "\n",
    "num_dict = {}\n",
    "for index, num in enumerate(nums):\n",
    "    num_dict[index] = num\n",
    "print(num_dict)"
   ]
  },
  {
   "attachments": {},
   "cell_type": "markdown",
   "metadata": {},
   "source": [
    "{0:2} \n",
    "0 is the key \n",
    "2 is the value\n",
    "\n"
   ]
  },
  {
   "cell_type": "code",
   "execution_count": null,
   "metadata": {},
   "outputs": [],
   "source": [
    "# at least, we need to reemember this, how to add [key:value] into to a dictionary \n",
    "\n",
    "num_dict = {}\n",
    "num_dict[0] = 2\n",
    "num_dict[1] = 7"
   ]
  },
  {
   "cell_type": "code",
   "execution_count": null,
   "metadata": {},
   "outputs": [
    {
     "name": "stdout",
     "output_type": "stream",
     "text": [
      "{0: 2, 1: 7}\n"
     ]
    }
   ],
   "source": [
    "print(num_dict)"
   ]
  },
  {
   "cell_type": "code",
   "execution_count": 3,
   "metadata": {},
   "outputs": [
    {
     "data": {
      "text/plain": [
       "False"
      ]
     },
     "execution_count": 3,
     "metadata": {},
     "output_type": "execute_result"
    }
   ],
   "source": [
    "num_dict = {0:2, 1:7, 2:11, 3:15}\n",
    "x = 8\n",
    "if x in num_dict.values():\n",
    "    True\n",
    "else:\n",
    "    False\n"
   ]
  },
  {
   "cell_type": "code",
   "execution_count": 11,
   "metadata": {},
   "outputs": [
    {
     "name": "stdout",
     "output_type": "stream",
     "text": [
      "7\n"
     ]
    }
   ],
   "source": [
    "num_dict = {0:2, 1:7, 2:11, 3:15}\n",
    "print(num_dict[1])"
   ]
  },
  {
   "cell_type": "code",
   "execution_count": 16,
   "metadata": {},
   "outputs": [
    {
     "name": "stdout",
     "output_type": "stream",
     "text": [
      "7\n"
     ]
    }
   ],
   "source": [
    "num_dict = {0:2, 1:7, 2:11, 3:15}\n",
    "value_7 = num_dict[1]\n",
    "print(value_7)\n"
   ]
  },
  {
   "cell_type": "code",
   "execution_count": 33,
   "metadata": {},
   "outputs": [
    {
     "name": "stdout",
     "output_type": "stream",
     "text": [
      "11\n"
     ]
    }
   ],
   "source": [
    "num_dict = {0:2, 1:7, 2:11, 3:15}\n",
    "complement = 2\n",
    "index = num_dict[complement]\n",
    "print(index)\n"
   ]
  },
  {
   "cell_type": "code",
   "execution_count": null,
   "metadata": {},
   "outputs": [],
   "source": []
  },
  {
   "cell_type": "code",
   "execution_count": null,
   "metadata": {},
   "outputs": [],
   "source": [
    "# at least, we need to reemember this, how to add [key:value] into to a dictionary \n",
    "\n",
    "num_dict = {}\n",
    "num_dict[0] = 2\n",
    "num_dict[1] = 7"
   ]
  },
  {
   "cell_type": "code",
   "execution_count": 31,
   "metadata": {},
   "outputs": [
    {
     "ename": "KeyError",
     "evalue": "7",
     "output_type": "error",
     "traceback": [
      "\u001b[0;31m---------------------------------------------------------------------------\u001b[0m",
      "\u001b[0;31mKeyError\u001b[0m                                  Traceback (most recent call last)",
      "Cell \u001b[0;32mIn[31], line 2\u001b[0m\n\u001b[1;32m      1\u001b[0m num_dict \u001b[39m=\u001b[39m {\u001b[39m0\u001b[39m:\u001b[39m2\u001b[39m, \u001b[39m1\u001b[39m:\u001b[39m7\u001b[39m, \u001b[39m2\u001b[39m:\u001b[39m11\u001b[39m, \u001b[39m3\u001b[39m:\u001b[39m15\u001b[39m}\n\u001b[0;32m----> 2\u001b[0m index \u001b[39m=\u001b[39m num_dict[\u001b[39m7\u001b[39;49m]\n\u001b[1;32m      3\u001b[0m \u001b[39mprint\u001b[39m(index)\n",
      "\u001b[0;31mKeyError\u001b[0m: 7"
     ]
    }
   ],
   "source": [
    "num_dict = {0:2, 1:7, 2:11, 3:15}\n",
    "index = num_dict[7]\n",
    "print(index)"
   ]
  },
  {
   "cell_type": "code",
   "execution_count": 34,
   "metadata": {},
   "outputs": [
    {
     "data": {
      "text/plain": [
       "False"
      ]
     },
     "execution_count": 34,
     "metadata": {},
     "output_type": "execute_result"
    },
    {
     "data": {
      "text/plain": [
       "False"
      ]
     },
     "execution_count": 34,
     "metadata": {},
     "output_type": "execute_result"
    },
    {
     "data": {
      "text/plain": [
       "False"
      ]
     },
     "execution_count": 34,
     "metadata": {},
     "output_type": "execute_result"
    },
    {
     "data": {
      "text/plain": [
       "True"
      ]
     },
     "execution_count": 34,
     "metadata": {},
     "output_type": "execute_result"
    },
    {
     "data": {
      "text/plain": [
       "False"
      ]
     },
     "execution_count": 34,
     "metadata": {},
     "output_type": "execute_result"
    }
   ],
   "source": [
    "lst = [1,2,3,5]\n",
    "for i in lst:\n",
    "    if i == 5: \n",
    "        True\n",
    "    False"
   ]
  },
  {
   "cell_type": "code",
   "execution_count": null,
   "metadata": {},
   "outputs": [],
   "source": []
  },
  {
   "cell_type": "markdown",
   "metadata": {},
   "source": [
    "Solution_4: hash function\n",
    "1. use a hash function to store the value and index into a dictionary.\n",
    "2. if the target - value is in the dictionary, return the index of the value and the index of the target - value.\n",
    "3. if the target - value is not in the dictionary, store the value and index into the dictionary."
   ]
  },
  {
   "cell_type": "code",
   "execution_count": 49,
   "metadata": {},
   "outputs": [],
   "source": [
    "nums = [2, 7, 11, 15]\n",
    "target = 9"
   ]
  },
  {
   "cell_type": "code",
   "execution_count": 54,
   "metadata": {},
   "outputs": [],
   "source": [
    "\n",
    "class Solution_4:\n",
    "    def twoSum(self, nums, target):\n",
    "        num_dictionary = {} # hash function\n",
    "        for index,num in enumerate (nums): # enumerate function\n",
    "            complement_num = target - num\n",
    "            if complement_num in num_dictionary:\n",
    "                return [num_dictionary[complement_num], index] \n",
    "            else:\n",
    "                num_dictionary[num] = index #adding a key and index in a dictionary \n",
    "#\n",
    "        "
   ]
  },
  {
   "attachments": {},
   "cell_type": "markdown",
   "metadata": {},
   "source": [
    "I discovered that it is not necessary to add an item to a dictionary before checking for its existence. In other words, we can verify if a target is present in the dictionary even before adding any values to it.\n",
    "\n",
    "I ask ChatGPT: in programming, is it correct?\n",
    "\n",
    "ChatGPT:Yes, in programming, you can check whether a key exists in a dictionary even before adding any values to it. If the key is not present, the check will simply return False or not execute the block of code associated with the condition. This is a common approach, especially when using dictionaries as look-up tables or memoization caches.\n",
    "\n"
   ]
  },
  {
   "cell_type": "code",
   "execution_count": 56,
   "metadata": {},
   "outputs": [
    {
     "name": "stdout",
     "output_type": "stream",
     "text": [
      "[0, 1]\n"
     ]
    }
   ],
   "source": [
    "sol = Solution_4()\n",
    "result = sol.twoSum(nums, target)\n",
    "print(result)"
   ]
  },
  {
   "cell_type": "code",
   "execution_count": null,
   "metadata": {},
   "outputs": [],
   "source": []
  },
  {
   "cell_type": "code",
   "execution_count": null,
   "metadata": {},
   "outputs": [],
   "source": []
  }
 ],
 "metadata": {
  "kernelspec": {
   "display_name": "Python 3",
   "language": "python",
   "name": "python3"
  },
  "language_info": {
   "codemirror_mode": {
    "name": "ipython",
    "version": 3
   },
   "file_extension": ".py",
   "mimetype": "text/x-python",
   "name": "python",
   "nbconvert_exporter": "python",
   "pygments_lexer": "ipython3",
   "version": "3.10.10"
  },
  "orig_nbformat": 4
 },
 "nbformat": 4,
 "nbformat_minor": 2
}
